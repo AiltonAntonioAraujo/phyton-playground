{
 "cells": [
  {
   "cell_type": "code",
   "execution_count": null,
   "metadata": {},
   "outputs": [],
   "source": [
    "import pandas as pd\n",
    "df = pd.read_csv(\"examples/pandas/series/tabela_pbf.csv\")\n"
   ]
  },
  {
   "cell_type": "code",
   "execution_count": null,
   "metadata": {},
   "outputs": [],
   "source": [
    "df.drop(\"Unnamed: 0\", axis=1, inplace=True)\n",
    "df.head()"
   ]
  },
  {
   "cell_type": "code",
   "execution_count": null,
   "metadata": {},
   "outputs": [],
   "source": [
    "#fazendo agrupamento por estado\n",
    "df.groupby(\"UF\")[\"VALOR PARCELA\"].sum()"
   ]
  },
  {
   "cell_type": "code",
   "execution_count": null,
   "metadata": {},
   "outputs": [],
   "source": [
    "#fazendo agrupamento por estado e municipio\n",
    "df.groupby(\"UF\", \"NOME MUNICIPIO\")[\"VALOR PARCELA\"].sum()"
   ]
  },
  {
   "cell_type": "code",
   "execution_count": null,
   "metadata": {},
   "outputs": [],
   "source": [
    "#fazendo agrupamento por estado e municipio\n",
    "valor_uf_muni = df.groupby(\"UF\", \"NOME MUNICIPIO\")[\"VALOR PARCELA\"].sum()\n",
    "#filtrando o estado\n",
    "valor_uf_muni[\"GO\"]\n",
    "valor_uf_muni[\"GO\"].min()\n",
    "valor_uf_muni[\"GO\"].max()\n",
    "#pegando os 5 primeiros por ordem crecendo de valores\n",
    "valor_uf_muni[\"GO\"].sort_values()[:5]\n",
    "\n",
    "#pegando os 5 primeiros que mais receberam valors\n",
    "valor_uf_muni[\"GO\"].sort_values(ascending=False)[:5]\n",
    "\n",
    "\n"
   ]
  },
  {
   "cell_type": "code",
   "execution_count": null,
   "metadata": {},
   "outputs": [],
   "source": [
    "#analisando o cenário nacional\n",
    "muni = df.groupby(\"NOME MUNICÍPIO\")[\"VALOR PARCELA\"].sum()\n",
    "muni\n",
    "muni.sort_values()\n",
    "muni.sort_values(ascending=False)\n"
   ]
  }
 ],
 "metadata": {
  "kernelspec": {
   "display_name": ".venv",
   "language": "python",
   "name": "python3"
  },
  "language_info": {
   "codemirror_mode": {
    "name": "ipython",
    "version": 3
   },
   "file_extension": ".py",
   "mimetype": "text/x-python",
   "name": "python",
   "nbconvert_exporter": "python",
   "pygments_lexer": "ipython3",
   "version": "3.11.1"
  },
  "orig_nbformat": 4
 },
 "nbformat": 4,
 "nbformat_minor": 2
}
