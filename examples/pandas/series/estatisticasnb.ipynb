{
 "cells": [
  {
   "cell_type": "code",
   "execution_count": 9,
   "metadata": {},
   "outputs": [
    {
     "data": {
      "text/plain": [
       "8.346926766222282"
      ]
     },
     "execution_count": 9,
     "metadata": {},
     "output_type": "execute_result"
    }
   ],
   "source": [
    "import pandas as pd\n",
    "import random\n",
    "\n",
    "inicial = 1\n",
    "final = 61\n",
    "pesos = [50 + random.randint(20,49) for _ in range(inicial, final)]\n",
    "idades = [random.randint(18,75) for i in range(inicial, final)]\n",
    "salarios = [1000 + random.randint(18,75)*100 for i in range(inicial, final)]\n",
    "\n",
    "pacientes = pd.DataFrame(list(zip(pesos,idades,salarios)), columns=[\"peso\", \"idade\", \"salario\"])\n",
    "\n",
    "pacientes[\"peso\"].min()\n",
    "\n",
    "pacientes[\"peso\"].max()\n",
    "\n",
    "#media de peso\n",
    "pacientes[\"peso\"].mean()\n",
    "\n",
    "pacientes[\"peso\"].count()\n",
    "#moda do peso\n",
    "pacientes[\"peso\"].mode()\n",
    "#devio padrao\n",
    "pacientes[\"peso\"].std()\n"
   ]
  }
 ],
 "metadata": {
  "kernelspec": {
   "display_name": "Python 3",
   "language": "python",
   "name": "python3"
  },
  "language_info": {
   "codemirror_mode": {
    "name": "ipython",
    "version": 3
   },
   "file_extension": ".py",
   "mimetype": "text/x-python",
   "name": "python",
   "nbconvert_exporter": "python",
   "pygments_lexer": "ipython3",
   "version": "3.11.1"
  },
  "orig_nbformat": 4
 },
 "nbformat": 4,
 "nbformat_minor": 2
}
